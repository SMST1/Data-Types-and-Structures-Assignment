{
  "nbformat": 4,
  "nbformat_minor": 0,
  "metadata": {
    "colab": {
      "provenance": []
    },
    "kernelspec": {
      "name": "python3",
      "display_name": "Python 3"
    },
    "language_info": {
      "name": "python"
    }
  },
  "cells": [
    {
      "cell_type": "markdown",
      "source": [
        "1.What are data structures, and why are they important ?\n",
        "   \n",
        "  - Data structures are ways of organizing and storing data in a computer so\n",
        "     that it can be accessed and modified efficiently.  Data structures are important because these are foundational to computer science as they make data processing more efficient and effective, directly influencing the performance and scalability of software applications.\n",
        "\n",
        "\n",
        "2.Explain the difference between mutable and immutable data types with examples.\n",
        "- Mutable and immutable data types refer to whether the contents of an object can be changed after it is created. Examples of Mutable Data Types-\n",
        "\n",
        "       Lists : We ou can change, add, or remove elements from a list.\n",
        "       my_list = [1, 2, 3]\n",
        "       my_list[0] = 10\n",
        "\n",
        "       Dictionaries : We can change the values associated with keys, add new key-value pairs, or remove existing pairs.\n",
        "       my_dict = {'a': 1, 'b': 2}\n",
        "       my_dict['a'] = 10\n",
        "\n",
        "       Sets : we can add or remove elements from a set.\n",
        "       my_set = {1, 2, 3}\n",
        "       my_set.add(4)\n",
        "An immutable data type is one whose contents cannot be changed after the object is created. Any modification to the data results in the creation of a new object.  \n",
        "\n",
        "      Tuples : Once a tuple is created, we cannot change its elements.\n",
        "      my_tuple = (1, 2, 3)\n",
        "\n",
        "3.What are the main differences between lists and tuples in Python?\n",
        "- In Python, lists and tuples are both data structures used to store collections of items. However, they have key differences in terms of mutability, performance, and usage.\n",
        "Lists are mutable, meaning they can be modified after creation (e.g., adding/removing items), and are suited for collections of items that change.\n",
        "Tuples are immutable, meaning they cannot be modified once created, making them ideal for constant data or fixed collections that should not be altered.\n",
        "\n",
        "4.Describe how dictionaries store data?\n",
        "- Dictionary is a built-in data structure that stores data in key-value pairs. It is a mutable, unordered collection that allows for fast lookups, insertions, and deletions based on keys. A dictionary is made up of pairs where each key is unique and maps to a corresponding value.\n",
        "Example : my_dict = {'name': 'Alice', 'age': 25}\n",
        "\n",
        "5.Why might we use a set instead of a list in Python ?\n",
        "-\n",
        "We might use a set instead of a list in Python for several reasons:\n",
        "   \n",
        "   -  Uniqueness of elements: A set automatically removes duplicate elements.\n",
        "\n",
        "  -   Faster membership tests: Sets provide faster membership testing.\n",
        "\n",
        "  -   Set operations: Sets support mathematical operations like union, intersection, difference, and symmetric difference, which can be very useful for problems involving collections of items.\n",
        "\n",
        "  -  Unordered collection: A set is unordered, meaning the elements are not stored in any specific order.\n",
        "\n",
        "  -  Memory efficiency for large collections: Sets tend to be more memory-efficient for certain operations, especially for large collections of unique items, compared to lists.\n",
        "\n",
        "6.What is a string in Python, and how is it different from a list?\n",
        "- In Python, a string is a sequence of characters enclosed in single quotes (') or double quotes (\"). It is used to represent text.\n",
        "String Characteristics: Immutable, Indexable, Iterable\n",
        "A list is an ordered collection of elements, which can be of any type (numbers, strings, objects, etc.). Lists are mutable, meaning we can modify, add, or remove elements after the list is created.\n",
        "\n",
        "7.How do tuples ensure data integrity in Python?\n",
        "- Tuples ensure data integrity in Python by being immutable. This immutability prevents accidental modifications, ensures consistent data, and provides a reliable way to store data that should not change throughout the program's execution. They are also hashable, which allows their use in sets and as dictionary keys, further enhancing their role in maintaining data integrity.\n",
        "\n",
        "8.What is a hash table, and how does it relate to dictionaries in Python?\n",
        "- A hash table is a data structure that stores key-value pairs and allows for efficient retrieval of values based on their keys. The primary feature of a hash table is the use of a hash function to map keys to specific indices in an underlying array or table. This enables fast lookups, insertions, and deletions, typically with an average time complexity of O(1).\n",
        "In Python, dictionaries are built on top of a hash table. A Python dictionary stores key-value pairs, where keys are hashed, and the hash values are used to quickly locate the corresponding values.\n",
        "\n",
        "9.Can lists contain different data types in Python ?\n",
        "-\n",
        "Yes, lists in Python can contain different data types. Python allows we to create a list with elements of varying types, such as integers, strings, floating-point numbers, booleans, and even other lists or objects.\n",
        "\n",
        "10.Explain why strings are immutable in Python?\n",
        "\n",
        "- Strings in Python are immutable, meaning once a string is created, its content cannot be changed. This design choice has several key reasons and benefits, both in terms of performance and the nature of strings as data types.\n",
        "\n",
        "    Reasons Why Strings are Immutable in Python:\n",
        "\n",
        "     Efficiency: Immutability allows Python to optimize string handling (e.g., string interning, copy-on-write).\n",
        "\n",
        "     Security: Immutable strings prevent accidental changes, ensuring consistent and reliable code.\n",
        "\n",
        "     Hashability: Immutable strings can be used as dictionary keys and set elements because their hash values remain constant.\n",
        "11.What advantages do dictionaries offer over lists for certain tasks?\n",
        "- Dictionaries offer several advantages over lists for certain tasks, particularly when we need to store and retrieve data based on unique keys rather than indices. Dictionaries are well-suited for tasks where we need fast, efficient access to data via unique keys, while lists are better for tasks where order or a simple collection of items is needed.\n",
        "\n",
        "Advantages:\n",
        "\n",
        "     Fast Lookups: O(1) average time complexity for accessing values by key in dictionaries, compared to O(n) for searching values in lists.\n",
        "\n",
        "     Key-Value Mapping: Direct and meaningful mapping of data using keys, making dictionaries ideal for tasks that involve pairing data.\n",
        "\n",
        "     Uniqueness of Keys: Automatically ensures no duplicate keys and allows overwriting values with the same key.\n",
        "\n",
        "     Efficient Modifications: Easy to modify, add, or remove data using keys.\n",
        "\n",
        "     Nested Data: Convenient for storing and manipulating complex, nested data structures.\n",
        "\n",
        "12.Describe a scenario where using a tuple would be preferable over a list.\n",
        "- Using a tuple would be preferable over a list in scenarios where we need immutable data that should not be modified after creation. Here’s a detailed scenario to illustrate when we would use a tuple:\n",
        "Scenario: Storing Geographic Coordinates (Latitude and Longitude)\n",
        "Imagine we are building a mapping application or working with geographic data, and we need to store the coordinates (latitude and longitude) for various locations. In this case, a tuple would be preferable over a list for the following reasons:\n",
        "\n",
        "Immutability : coordinates = (40.7128, -74.0060)\n",
        "\n",
        "Safety :\n",
        "def display_coordinates(coordinate_tuple):\n",
        "    print(f\"Latitude: {coordinate_tuple[0]}, Longitude: {coordinate_tuple[1]}\")\n",
        "\n",
        "display_coordinates(coordinates)\n",
        "\n",
        "Hashability : location_data = {\n",
        "               (40.7128, -74.0060): \"New York City\",\n",
        "               (34.0522, -118.2437): \"Los Angeles\",\n",
        "               (51.5074, -0.1278): \"London\"\n",
        "                                          }\n",
        "\n",
        "13.How do sets handle duplicate values in Python?\n",
        "-  In Python, sets automatically handle duplicate values by removing them. A set is a collection of unique elements, meaning it cannot contain any repeated items. When we try to add a duplicate element to a set, Python simply ignores the addition, ensuring that each element in the set is unique.\n",
        "\n",
        "14.How does the “in” keyword work differently for lists and dictionaries?\n",
        "-  The in keyword in Python works differently for lists and dictionaries because it checks for membership in different ways depending on the type of collection we're working with.\n",
        "When used with a list, the in keyword checks if a specific value is present in the list.\n",
        "\n",
        "Example :\n",
        "\n",
        "\n",
        "     my_list = [1, 2, 3, 4, 5]\n",
        "     print(3 in my_list)  # Output: True\n",
        "     print(6 in my_list)  # Output: False\n",
        "\n",
        "When used with a dictionary, the in keyword checks if a key is present in the dictionary, not if a value is present.\n",
        "\n",
        "Example:\n",
        "\n",
        "       my_dict = {\"apple\": 2, \"banana\": 3, \"cherry\": 5}\n",
        "       print(\"banana\" in my_dict)  # Output: True\n",
        "       print(\"grape\" in my_dict)   # Output: False\n",
        "\n",
        "\n",
        "15.Can we modify the elements of a tuple? Explain why or why not?\n",
        "-  No, we cannot modify the elements of a tuple after it has been created. Tuples are immutable in Python, which means once a tuple is created, its content cannot be changed, added, or removed.\n",
        "Why Tuples are Immutable:\n",
        "\n",
        "  When a tuple is created, its size and contents are fixed. This ensures that the data in a tuple remains constant and cannot be accidentally changed or modified later in the program.\n",
        "This immutability makes tuples suitable for cases where we want to ensure that the data stays unchanged, such as representing fixed collections of data or using tuples as keys in dictionaries.\n",
        "\n",
        "\n",
        "16.What is a nested dictionary, and give an example of its use case?\n",
        "-  A nested dictionary is a dictionary where the values of one or more keys are themselves dictionaries. This allows we to create a hierarchical or multi-level structure, where each key in the outer dictionary can map to another dictionary.\n",
        "\n",
        "Example of a Nested Dictionary:\n",
        "\n",
        "    students = {\n",
        "    \"Alice\": {\n",
        "        \"age\": 20,\n",
        "        \"grades\": {\n",
        "            \"math\": 90,\n",
        "            \"science\": 85,\n",
        "            \"english\": 88\n",
        "        }\n",
        "    },\n",
        "    \"Bob\": {\n",
        "        \"age\": 22,\n",
        "        \"grades\": {\n",
        "            \"math\": 75,\n",
        "            \"science\": 80,\n",
        "            \"english\": 78\n",
        "        }\n",
        "    },\n",
        "    \"Charlie\": {\n",
        "        \"age\": 21,\n",
        "        \"grades\": {\n",
        "            \"math\": 95,\n",
        "            \"science\": 92,\n",
        "            \"english\": 91\n",
        "        }\n",
        "      }\n",
        "    }\n",
        "    print(students[\"Alice\"][\"age\"])  \n",
        "    print(students[\"Bob\"][\"grades\"][\"math\"])\n",
        "\n",
        "\n",
        "17.Describe the time complexity of accessing elements in a dictionary.\n",
        "\n",
        "- In Python, the time complexity of accessing elements in a dictionary is generally O(1), which is constant time. This means that, on average, it takes the same amount of time to access a value in a dictionary, regardless of the number of elements in the dictionary.\n",
        "Average time complexity of accessing an element in a dictionary: O(1) (constant time).\n",
        "Worst-case time complexity can be O(n), but this is rare due to the way Python handles hash collisions.\n",
        "Python dictionaries are highly efficient for lookups, insertions, and deletions due to their underlying hash table implementation.\n",
        "\n",
        "18. In what situations are lists preferred over dictionaries?\n",
        "- Lists are preferred over dictionaries in situations where we need an ordered collection of items or when we don't require key-based access to elements. Here are some key scenarios where lists are the better choice:\n",
        "\n",
        "     Order matters: Lists maintain the order of elements, and we can access elements by index.\n",
        "\n",
        "     Duplicates are needed: Lists can store duplicate elements, unlike dictionaries (which enforce unique keys).\n",
        "\n",
        "     Simple data: Lists are ideal for simple, homogeneous collections where we don't need key-value pairs.\n",
        "\n",
        "     Index-based access: When we need to access elements by position in the collection.\n",
        "\n",
        "     Dynamic changes: Lists allow easy modification of the collection (addition, removal, or change).\n",
        "\n",
        "     Iteration: Lists are great for iterating through all elements.\n",
        "\n",
        "Example :\n",
        "\n",
        "        numbers = [10, 20, 30, 40, 50]\n",
        "        average = sum(numbers) / len(numbers)\n",
        "\n",
        "\n",
        "19.Why are dictionaries considered unordered, and how does that affect data retrieval?\n",
        "- Python dictionaries are considered unordered because they use a hash table for fast lookups, not for maintaining order.\n",
        "Insertion order is preserved in Python 3.7+ dictionaries, but this is a side effect of the implementation, not the core feature of dictionaries.\n",
        "Data retrieval from a dictionary (by key) is still efficient (O(1)) regardless of insertion order, as the hash table design allows for constant-time access.\n",
        "\n",
        "20.Explain the difference between a list and a dictionary in terms of data retrieval.\n",
        "- The primary difference between a list and a dictionary in terms of data retrieval lies in how data is accessed and the structure of the data they store. Let's break down the key differences:\n",
        "\n",
        "   Access Method:\n",
        "List: Data is accessed by index. Each element in a list has a specific position (index) and can be retrieved using that index.\n",
        "Dictionary: Data is accessed by key. Each element in a dictionary is stored as a key-value pair, and we retrieve the value by referencing the key.\n",
        "\n",
        "   Data Structure:\n",
        "List: A list is an ordered collection of elements, which means each element is stored in a specific sequence. Elements are indexed by integers, starting at 0 for the first item.\n",
        "Dictionary: A dictionary is an unordered collection of key-value pairs (although as of Python 3.7+, dictionaries maintain insertion order). Each key in a dictionary is unique and maps to a specific value.\n",
        "\n",
        "   Key vs Index:\n",
        "List: Elements are accessed using integer indices. The index represents the position of the element in the list, starting from 0.\n",
        "\n",
        "  Example:\n",
        "python\n",
        "Copy\n",
        "my_list = [10, 20, 30, 40]\n",
        "print(my_list[2])  # Output: 30 (Access element at index 2)\n",
        "Dictionary: Elements are accessed using keys. The keys do not have to be integers—they can be any immutable data type (such as strings, tuples, etc.). we use the key to look up the associated value.\n",
        "\n",
        "  Example:\n",
        "python\n",
        "Copy\n",
        "my_dict = {\"apple\": 10, \"banana\": 5, \"cherry\": 7}\n",
        "print(my_dict[\"banana\"])  # Output: 5 (Access value using the key \"banana\")\n",
        "\n",
        "\n",
        "\n",
        "\n",
        "\n",
        "\n",
        "\n",
        "\n",
        "\n",
        "\n",
        "\n",
        "\n",
        "\n",
        "\n",
        "\n",
        "\n",
        "\n",
        "\n",
        "\n",
        "\n",
        "\n",
        "\n",
        "\n",
        "\n",
        "\n",
        "\n",
        "\n",
        "\n",
        "\n",
        "\n",
        "\n",
        "\n",
        "\n",
        "\n",
        "\n",
        "\n",
        "\n",
        "\n",
        "\n",
        "\n",
        "\n",
        "\n",
        "\n",
        "\n",
        "\n",
        "\n",
        "\n",
        "\n",
        "\n",
        "\n",
        "\n",
        "\n",
        "\n",
        "\n",
        "\n",
        "/\n",
        "\n",
        "\n",
        "\n",
        "\n",
        "\n"
      ],
      "metadata": {
        "id": "eMLMul6UKppv"
      }
    },
    {
      "cell_type": "code",
      "source": [
        "# 1. Write a code to create a string with your name and print it.\n",
        "\n",
        "\n",
        "name = \"Aman\"\n",
        "\n",
        "print(name)\n"
      ],
      "metadata": {
        "id": "hxByJIM9M8pR"
      },
      "execution_count": null,
      "outputs": []
    },
    {
      "cell_type": "code",
      "source": [
        "# 2.  Write a code to find the length of the string \"Hello World\".\n",
        "\n",
        "text = \"Hello World\"\n",
        "\n",
        "length = len(text)\n",
        "\n",
        "print(length)"
      ],
      "metadata": {
        "id": "V3CMp_OMNWAv"
      },
      "execution_count": null,
      "outputs": []
    },
    {
      "cell_type": "code",
      "source": [
        "# 3.  Write a code to slice the first 3 characters from the string \"Python Programming\".\n",
        "\n",
        "text = \"Python Programming\"\n",
        "\n",
        "slice_text = text[:3]\n",
        "\n",
        "print(slice_text)\n"
      ],
      "metadata": {
        "colab": {
          "base_uri": "https://localhost:8080/"
        },
        "id": "f_S25wiEOAfK",
        "outputId": "95869dff-5e80-43b0-949e-d2dc0e21f68d"
      },
      "execution_count": 1,
      "outputs": [
        {
          "output_type": "stream",
          "name": "stdout",
          "text": [
            "Pyt\n"
          ]
        }
      ]
    },
    {
      "cell_type": "code",
      "source": [
        "# 4.  Write a code to convert the string \"hello\" to uppercase.\n",
        "\n",
        "text = \"hello\"\n",
        "\n",
        "uppercase_text = text.upper()\n",
        "\n",
        "print(uppercase_text)\n",
        "print(text.upper())\n"
      ],
      "metadata": {
        "colab": {
          "base_uri": "https://localhost:8080/"
        },
        "id": "lFSlkVVAOXs3",
        "outputId": "161766f1-3dc0-486f-f207-6b09420b06ba"
      },
      "execution_count": 3,
      "outputs": [
        {
          "output_type": "stream",
          "name": "stdout",
          "text": [
            "HELLO\n",
            "HELLO\n"
          ]
        }
      ]
    },
    {
      "cell_type": "code",
      "source": [
        "# 5.  Write a code to replace the word \"apple\" with \"orange\" in the string \"I like apple\".\n",
        "\n",
        "\n",
        "text = \"I like apple\"\n",
        "\n",
        "new_text = text.replace(\"apple\", \"orange\")\n",
        "\n",
        "print(new_text)\n",
        "\n"
      ],
      "metadata": {
        "colab": {
          "base_uri": "https://localhost:8080/"
        },
        "id": "TuqiJC0GOxuA",
        "outputId": "7fec989d-ae77-4f8d-b8a4-85a645b5a758"
      },
      "execution_count": 6,
      "outputs": [
        {
          "output_type": "stream",
          "name": "stdout",
          "text": [
            "I like orange\n"
          ]
        }
      ]
    },
    {
      "cell_type": "code",
      "source": [
        " # 6.Write a code to create a list with numbers 1 to 5 and print it.\n",
        "\n",
        "numbers = [1, 2, 3, 4, 5]\n",
        "\n",
        "print(numbers)\n",
        "\n"
      ],
      "metadata": {
        "colab": {
          "base_uri": "https://localhost:8080/"
        },
        "id": "_2SwQJi2PPIc",
        "outputId": "6166c73c-6f48-4f6f-e1a2-9fee43b995b9"
      },
      "execution_count": 7,
      "outputs": [
        {
          "output_type": "stream",
          "name": "stdout",
          "text": [
            "[1, 2, 3, 4, 5]\n"
          ]
        }
      ]
    },
    {
      "cell_type": "code",
      "source": [
        "# 7.  Write a code to append the number 10 to the list [1, 2, 3, 4].\n",
        "\n",
        "numbers = [1, 2, 3, 4]\n",
        "\n",
        "numbers.append(10)\n",
        "\n",
        "print(numbers)\n",
        "\n"
      ],
      "metadata": {
        "colab": {
          "base_uri": "https://localhost:8080/"
        },
        "id": "u36TEGk7PhQm",
        "outputId": "5167dc36-344c-4362-9add-bb91629cbb78"
      },
      "execution_count": 9,
      "outputs": [
        {
          "output_type": "stream",
          "name": "stdout",
          "text": [
            "[1, 2, 3, 4, 10]\n"
          ]
        }
      ]
    },
    {
      "cell_type": "code",
      "source": [
        "# 8.  Write a code to remove the number 3 from the list [1, 2, 3, 4, 5]\n",
        "\n",
        "\n",
        "numbers = [1, 2, 3, 4, 5]\n",
        "\n",
        "numbers.remove(3)\n",
        "\n",
        "print(numbers)\n",
        "\n"
      ],
      "metadata": {
        "colab": {
          "base_uri": "https://localhost:8080/"
        },
        "id": "d4y2x7RyP41E",
        "outputId": "3fa98dc7-3cdb-4a15-8dd3-c57568b6ed44"
      },
      "execution_count": 10,
      "outputs": [
        {
          "output_type": "stream",
          "name": "stdout",
          "text": [
            "[1, 2, 4, 5]\n"
          ]
        }
      ]
    },
    {
      "cell_type": "code",
      "source": [
        "# 9.  Write a code to access the second element in the list ['a', 'b', 'c', 'd']\n",
        "\n",
        "letters = ['a', 'b', 'c', 'd']\n",
        "\n",
        "second_element = letters[1]\n",
        "\n",
        "print(second_element)\n"
      ],
      "metadata": {
        "colab": {
          "base_uri": "https://localhost:8080/"
        },
        "id": "bZ8zSG-xQFFF",
        "outputId": "4afd6854-986b-40ae-cfed-30615f362075"
      },
      "execution_count": 11,
      "outputs": [
        {
          "output_type": "stream",
          "name": "stdout",
          "text": [
            "b\n"
          ]
        }
      ]
    },
    {
      "cell_type": "code",
      "source": [
        "# 10. Write a code to reverse the list [10, 20, 30, 40, 50].\n",
        "\n",
        "numbers = [10, 20, 30, 40, 50]\n",
        "\n",
        "numbers.reverse()\n",
        "\n",
        "print(numbers)"
      ],
      "metadata": {
        "colab": {
          "base_uri": "https://localhost:8080/"
        },
        "id": "cjCgAIPCQRRE",
        "outputId": "3de980fc-4224-4e67-bbfd-defab6b48388"
      },
      "execution_count": 14,
      "outputs": [
        {
          "output_type": "stream",
          "name": "stdout",
          "text": [
            "[50, 40, 30, 20, 10]\n"
          ]
        }
      ]
    },
    {
      "cell_type": "code",
      "source": [
        "# 11. Write a code to create a tuple with the elements 10, 20, 30 and print it.\n",
        "\n",
        "\n",
        "my_tuple = (10, 20, 30)\n",
        "\n",
        "print(my_tuple)"
      ],
      "metadata": {
        "id": "fmgp-qiFQncn"
      },
      "execution_count": null,
      "outputs": []
    },
    {
      "cell_type": "code",
      "source": [
        "#   12. Write a code to access the first element of the tuple ('apple', 'banana', 'cherry').\n",
        "\n",
        "my_tuple = ('apple', 'banana', 'cherry')\n",
        "\n",
        "first_element = my_tuple[0]\n",
        "\n",
        "print(first_element)\n",
        "\n"
      ],
      "metadata": {
        "colab": {
          "base_uri": "https://localhost:8080/"
        },
        "id": "iDldoNXIR6wL",
        "outputId": "6916b822-866c-4d03-8047-ab3f06807700"
      },
      "execution_count": 15,
      "outputs": [
        {
          "output_type": "stream",
          "name": "stdout",
          "text": [
            "apple\n"
          ]
        }
      ]
    },
    {
      "cell_type": "code",
      "source": [
        "#  13. Write a code to count how many times the number 2 appears in the tuple (1, 2, 3, 2, 4, 2).\n",
        "\n",
        "my_tuple = (1, 2, 3, 2, 4, 2)\n",
        "\n",
        "count_of_2 = my_tuple.count(2)\n",
        "\n",
        "print(count_of_2)\n"
      ],
      "metadata": {
        "id": "y2RiyVxhSMoM"
      },
      "execution_count": null,
      "outputs": []
    },
    {
      "cell_type": "code",
      "source": [
        "#  14. Write a code to find the index of the element \"cat\" in the tuple ('dog', 'cat', 'rabbit').\n",
        "\n",
        "my_tuple = ('dog', 'cat', 'rabbit')\n",
        "\n",
        "index_of_cat = my_tuple.index('cat')\n",
        "\n",
        "print(index_of_cat)\n"
      ],
      "metadata": {
        "colab": {
          "base_uri": "https://localhost:8080/"
        },
        "id": "tivUkvxgShXg",
        "outputId": "be646f9d-f2aa-4f2b-c505-d45cdd8f486a"
      },
      "execution_count": 16,
      "outputs": [
        {
          "output_type": "stream",
          "name": "stdout",
          "text": [
            "1\n"
          ]
        }
      ]
    },
    {
      "cell_type": "code",
      "source": [
        " # 15. Write a code to check if the element \"banana\" is in the tuple ('apple', 'orange', 'banana').\n",
        "\n",
        "my_tuple = ('apple', 'orange', 'banana')\n",
        "\n",
        "if 'banana' in my_tuple:\n",
        "    print(\"banana is in the tuple\")\n",
        "else:\n",
        "    print(\"banana is not in the tuple\")\n"
      ],
      "metadata": {
        "colab": {
          "base_uri": "https://localhost:8080/"
        },
        "id": "btEABRjySwb2",
        "outputId": "c9ff5d1d-5f4e-49bd-d399-88f21e5f28bf"
      },
      "execution_count": 17,
      "outputs": [
        {
          "output_type": "stream",
          "name": "stdout",
          "text": [
            "banana is in the tuple\n"
          ]
        }
      ]
    },
    {
      "cell_type": "code",
      "source": [
        " # 16. Write a code to create a set with the elements 1, 2, 3, 4, 5 and print it.\n",
        "\n",
        "my_set = {1, 2, 3, 4, 5}\n",
        "\n",
        "print(my_set)\n",
        "\n"
      ],
      "metadata": {
        "colab": {
          "base_uri": "https://localhost:8080/"
        },
        "id": "qjpG2IlSS_WR",
        "outputId": "a12f6fff-7cdc-4e09-e1b6-931b4a0147a7"
      },
      "execution_count": 18,
      "outputs": [
        {
          "output_type": "stream",
          "name": "stdout",
          "text": [
            "{1, 2, 3, 4, 5}\n"
          ]
        }
      ]
    },
    {
      "cell_type": "code",
      "source": [
        "#  17. Write a code to add the element 6 to the set {1, 2, 3, 4}.\n",
        "\n",
        "my_set = {1, 2, 3, 4}\n",
        "\n",
        "my_set.add(6)\n",
        "\n",
        "print(my_set)\n"
      ],
      "metadata": {
        "id": "7VoFkeyYTN7m"
      },
      "execution_count": null,
      "outputs": []
    },
    {
      "cell_type": "code",
      "source": [
        " # 18. Write a code to create a tuple with the elements 10, 20, 30 and print it.\n",
        "\n",
        "my_tuple = (10, 20, 30)\n",
        "\n",
        "print(my_tuple)\n"
      ],
      "metadata": {
        "colab": {
          "base_uri": "https://localhost:8080/"
        },
        "id": "UWSmlT5RTZgK",
        "outputId": "61809123-e407-493d-be2d-76a5aced3cac"
      },
      "execution_count": 19,
      "outputs": [
        {
          "output_type": "stream",
          "name": "stdout",
          "text": [
            "(10, 20, 30)\n"
          ]
        }
      ]
    },
    {
      "cell_type": "code",
      "source": [
        "# 19. Write a code to access the first element of the tuple ('apple', 'banana', 'cherry').\n",
        "\n",
        "\n",
        "my_tuple = ('apple', 'banana', 'cherry')\n",
        "\n",
        "first_element = my_tuple[0]\n",
        "\n",
        "print(first_element)\n"
      ],
      "metadata": {
        "id": "UG9mPs4YToHb"
      },
      "execution_count": null,
      "outputs": []
    },
    {
      "cell_type": "code",
      "source": [
        " # 20. Write a code to count how many times the number 2 appears in the tuple (1, 2, 3, 2, 4, 2).\n",
        "\n",
        "my_tuple = (1, 2, 3, 2, 4, 2)\n",
        "\n",
        "count_of_2 = my_tuple.count(2)\n",
        "\n",
        "print(count_of_2)\n"
      ],
      "metadata": {
        "colab": {
          "base_uri": "https://localhost:8080/"
        },
        "id": "SIJL15uTT9Ew",
        "outputId": "4bcdc201-3ad5-4940-8af5-03fabcaa55b4"
      },
      "execution_count": 20,
      "outputs": [
        {
          "output_type": "stream",
          "name": "stdout",
          "text": [
            "3\n"
          ]
        }
      ]
    },
    {
      "cell_type": "code",
      "source": [
        " # 21. Write a code to find the index of the element \"cat\" in the tuple ('dog', 'cat', 'rabbit').\n",
        "\n",
        "my_tuple = ('dog', 'cat', 'rabbit')\n",
        "\n",
        "index_of_cat = my_tuple.index('cat')\n",
        "\n",
        "print(index_of_cat)\n"
      ],
      "metadata": {
        "colab": {
          "base_uri": "https://localhost:8080/"
        },
        "id": "wTeLW-b1UKki",
        "outputId": "6a2e5a0e-cd37-4098-fed5-f0f132004765"
      },
      "execution_count": 21,
      "outputs": [
        {
          "output_type": "stream",
          "name": "stdout",
          "text": [
            "1\n"
          ]
        }
      ]
    },
    {
      "cell_type": "code",
      "source": [
        " # 22. Write a code to check if the element \"banana\" is in the tuple ('apple', 'orange', 'banana').\n",
        "\n",
        "my_tuple = ('apple', 'orange', 'banana')\n",
        "\n",
        "if 'banana' in my_tuple:\n",
        "    print(\"banana is in the tuple\")\n",
        "else:\n",
        "    print(\"banana is not in the tuple\")\n"
      ],
      "metadata": {
        "colab": {
          "base_uri": "https://localhost:8080/"
        },
        "id": "WwdLZDMjUWBr",
        "outputId": "e67821b3-ba0b-431f-b585-7d57a0887105"
      },
      "execution_count": 22,
      "outputs": [
        {
          "output_type": "stream",
          "name": "stdout",
          "text": [
            "banana is in the tuple\n"
          ]
        }
      ]
    },
    {
      "cell_type": "code",
      "source": [
        " #23. Write a code to create a set with the elements 1, 2, 3, 4, 5 and print it.\n",
        "\n",
        "my_set = {1, 2, 3, 4, 5}\n",
        "\n",
        "print(my_set)\n",
        "\n"
      ],
      "metadata": {
        "colab": {
          "base_uri": "https://localhost:8080/"
        },
        "id": "DPhpTWneUhIk",
        "outputId": "5764f122-395a-4b14-afad-08e779e8a3a3"
      },
      "execution_count": 23,
      "outputs": [
        {
          "output_type": "stream",
          "name": "stdout",
          "text": [
            "{1, 2, 3, 4, 5}\n"
          ]
        }
      ]
    },
    {
      "cell_type": "code",
      "source": [
        "#  24. Write a code to add the element 6 to the set {1, 2, 3, 4}.\n",
        "\n",
        "my_set = {1, 2, 3, 4}\n",
        "\n",
        "my_set.add(6)\n",
        "\n",
        "print(my_set)\n"
      ],
      "metadata": {
        "colab": {
          "base_uri": "https://localhost:8080/"
        },
        "id": "hF4Nv9ETUrs2",
        "outputId": "77bc844c-6a5a-471d-e8b4-46625d93a30b"
      },
      "execution_count": 24,
      "outputs": [
        {
          "output_type": "stream",
          "name": "stdout",
          "text": [
            "{1, 2, 3, 4, 6}\n"
          ]
        }
      ]
    },
    {
      "cell_type": "markdown",
      "source": [],
      "metadata": {
        "id": "m-S4ja1XM6tw"
      }
    },
    {
      "cell_type": "code",
      "execution_count": null,
      "metadata": {
        "id": "dRWqrhFWKkaJ"
      },
      "outputs": [],
      "source": []
    }
  ]
}